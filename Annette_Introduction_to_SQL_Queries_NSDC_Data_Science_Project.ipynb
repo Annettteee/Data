{
  "nbformat": 4,
  "nbformat_minor": 0,
  "metadata": {
    "colab": {
      "provenance": [],
      "gpuType": "T4",
      "include_colab_link": true
    },
    "kernelspec": {
      "name": "python3",
      "display_name": "Python 3"
    },
    "language_info": {
      "name": "python"
    },
    "accelerator": "GPU"
  },
  "cells": [
    {
      "cell_type": "markdown",
      "metadata": {
        "id": "view-in-github",
        "colab_type": "text"
      },
      "source": [
        "<a href=\"https://colab.research.google.com/github/Annettteee/Data/blob/main/Annette_Introduction_to_SQL_Queries_NSDC_Data_Science_Project.ipynb\" target=\"_parent\"><img src=\"https://colab.research.google.com/assets/colab-badge.svg\" alt=\"Open In Colab\"/></a>"
      ]
    },
    {
      "cell_type": "markdown",
      "source": [
        "\n",
        "\n",
        "<h1 align=\"center\">\n",
        "    NSDC Data Science Projects\n",
        "</h1>\n",
        "\n",
        "<h2 align=\"center\">\n",
        "    Project: Practicing Writing SQL Queries - #1\n",
        "</h2>\n",
        "\n",
        "<h3 align=\"center\">\n",
        "    Name: (Annette)\n",
        "</h3>\n"
      ],
      "metadata": {
        "id": "tt70feOIfcQ0"
      }
    },
    {
      "cell_type": "markdown",
      "source": [
        "### **Please read before you begin your project**\n",
        "\n",
        "**Instructions: Google Colab Notebooks:**\n",
        "\n",
        "Google Colab is a free cloud service. It is a hosted Jupyter notebook service that requires no setup to use, while providing free access to computing resources. We will be using Google Colab for this project.\n",
        "\n",
        "In order to work within the Google Colab Notebook, **please start by clicking on \"File\" and then \"Save a copy in Drive.\"** This will save a copy of the notebook in your personal Google Drive.\n",
        "\n",
        "Please rename the file to \"DSP - SQL Queries #1 - Your Full Name.\" Once this project is completed, you will be prompted to share your file with the National Student Data Corps (NSDC) Project Leaders.\n",
        "\n",
        "You can now start working on the project. :)\n",
        "\n",
        "**Project Description:**\n",
        "\n",
        "To work with the New York City Airbnb dataset in this project, you'll need to create and connect to an SQLite database as seen in the steps within this notebook.\n",
        "\n",
        "**Key Features**\n",
        "\n",
        "- Practical SQL exercises with step-by-step instructions.\n",
        "- Real-world datasets for hands-on experience.\n",
        "- Comprehensive explanations of SQL queries and concepts.\n",
        "- Interactive coding examples and challenges.\n",
        "\n",
        "**Dataset**\n",
        "- You can find the New York City Airbnb dataset on Kaggle: [New York City Airbnb Dataset](https://www.kaggle.com/datasets/dgomonov/new-york-city-airbnb-open-data)\n",
        "- Download the dataset from the provided link and save it as 'AB_NYC_2019.csv' on your computer.\n",
        "- On Google Colab, click on the \"Upload\" button and select the 'AB_NYC_2019.csv' file from your local computer."
      ],
      "metadata": {
        "id": "35fgH_hXgAUU"
      }
    },
    {
      "cell_type": "markdown",
      "source": [
        "## Introduction\n",
        "This SQL project is designed for beginners who want to practice writing SQL queries using a real-world dataset. In this project, we will work with the New York City Airbnb dataset. The main goal is to help you become familiar with SQL syntax and basic data analysis tasks. Make sure to complete the code where there is a 'TODO' sign. Hints are provided along the way.\n",
        "\n",
        "## Table of Contents\n",
        "1. [Libraries and Database Setup](#database-setup)\n",
        "2. [Loading the Dataset](#loading-dataset)\n",
        "3. [SQL Queries](#sql-queries)\n",
        "4. [Closing Connection](#closing-connection)\n",
        "5. [Summary of Basic SQL Commands](#summary-commands)\n",
        "\n",
        "# Section 1: Libraries and Database Setup <a name=\"database-setup\"></a>\n",
        "\n",
        "### Task 1.1: Import Libraries\n",
        "Let's start by importing the necessary libraries.\n"
      ],
      "metadata": {
        "id": "I4xHzjkqigQk"
      }
    },
    {
      "cell_type": "code",
      "source": [
        "import pandas as pd\n",
        "import numpy as np\n",
        "import sqlite3\n"
      ],
      "metadata": {
        "id": "NnR6oXHNG6Ff"
      },
      "execution_count": 1,
      "outputs": []
    },
    {
      "cell_type": "markdown",
      "source": [
        "### Task 1.2: Connect to the Database\n",
        "\n",
        "Next, establish a connection to the SQLite database named 'airbnb.db'.\n",
        "Use the sqlite3 library to create a connection object and store it in a variable called 'conn'.\n"
      ],
      "metadata": {
        "id": "qSERoLykixcz"
      }
    },
    {
      "cell_type": "code",
      "source": [
        "# Completed\n",
        "# Connect to the SQLite database\n",
        "conn = sqlite3.connect('airbnb.db')"
      ],
      "metadata": {
        "id": "8G9tDLd2iyq7"
      },
      "execution_count": 2,
      "outputs": []
    },
    {
      "cell_type": "markdown",
      "source": [
        "# Section 2: Loading the Dataset <a name=\"loading-dataset\"></a>"
      ],
      "metadata": {
        "id": "gCE_OEk5BrF2"
      }
    },
    {
      "cell_type": "markdown",
      "source": [
        "### Task 2.1: Load the Dataset\n",
        "- You will work with the 'listings' table from the New York City Airbnb dataset.\n",
        "- Load the dataset from the CSV file 'AB_NYC_2019.csv' into a DataFrame named 'df'.\n",
        "- Then, import the DataFrame into the 'listings' table in the database using the to_sql() method.\n",
        "\n",
        "Hint: Use the read_csv() method from pandas to read the CSV file.\n"
      ],
      "metadata": {
        "id": "_bXjXLHli0aE"
      }
    },
    {
      "cell_type": "code",
      "source": [
        "# TODO: Load the dataset into the SQLite database\n",
        "df = pd.read_csv('/content/AB_NYC_2019.csv')\n",
        "\n",
        "\n",
        "\n",
        "# Completed\n",
        "df.to_sql('listings', conn, if_exists='replace', index=False)"
      ],
      "metadata": {
        "id": "blwNI_PEi5FT",
        "colab": {
          "base_uri": "https://localhost:8080/"
        },
        "outputId": "2e906910-7ac0-4f4a-eb05-dea318daf344"
      },
      "execution_count": 3,
      "outputs": [
        {
          "output_type": "execute_result",
          "data": {
            "text/plain": [
              "48895"
            ]
          },
          "metadata": {},
          "execution_count": 3
        }
      ]
    },
    {
      "cell_type": "markdown",
      "source": [
        "# Section 3: SQL Queries <a name=\"sql-queries\"></a>\n",
        "\n",
        "Query the database: Write SQL queries to analyze the data in the SQLite database. You can use the sqlite3 library to execute the queries and fetch the results."
      ],
      "metadata": {
        "id": "1j3xgaK4Ck3S"
      }
    },
    {
      "cell_type": "markdown",
      "source": [
        "### Task 3.1: Retrieve all Columns\n",
        "- Write an SQL query to retrieve all columns from the 'listings' table.\n",
        "- Execute the query and display the first 10 rows of the result\n",
        "\n",
        "Hint: Use SELECTION to select entries from a specified table."
      ],
      "metadata": {
        "id": "eKaLdB8Fi7Bh"
      }
    },
    {
      "cell_type": "code",
      "source": [
        "cursor = conn.cursor()\n",
        "# TODO: Execute an SQL query using the cursor.execute() method to retrieve all columns from listings (don't forget the trailing ';' to finish a query)\n",
        "cursor.execute(\"SELECT * FROM listings;\")\n",
        "\n",
        "# Completed\n",
        "# Fetch all the results using fetchall()\n",
        "results = cursor.fetchall()"
      ],
      "metadata": {
        "id": "gqe3KmtUCr9V"
      },
      "execution_count": 5,
      "outputs": []
    },
    {
      "cell_type": "code",
      "source": [
        "# TODO: Display the first 10 rows\n",
        "for i, row in enumerate(results[:10]):\n",
        "    print(row)"
      ],
      "metadata": {
        "id": "9ZqFoSV6C5cH",
        "colab": {
          "base_uri": "https://localhost:8080/"
        },
        "outputId": "07fb5f07-0898-4fe5-ced2-9105fbefc5b7"
      },
      "execution_count": 6,
      "outputs": [
        {
          "output_type": "stream",
          "name": "stdout",
          "text": [
            "(2539, 'Clean & quiet apt home by the park', 2787, 'John', 'Brooklyn', 'Kensington', 40.64749, -73.97237, 'Private room', 149, 1, 9, '2018-10-19', 0.21, 6, 365)\n",
            "(2595, 'Skylit Midtown Castle', 2845, 'Jennifer', 'Manhattan', 'Midtown', 40.75362, -73.98377, 'Entire home/apt', 225, 1, 45, '2019-05-21', 0.38, 2, 355)\n",
            "(3647, 'THE VILLAGE OF HARLEM....NEW YORK !', 4632, 'Elisabeth', 'Manhattan', 'Harlem', 40.80902, -73.9419, 'Private room', 150, 3, 0, None, None, 1, 365)\n",
            "(3831, 'Cozy Entire Floor of Brownstone', 4869, 'LisaRoxanne', 'Brooklyn', 'Clinton Hill', 40.68514, -73.95976, 'Entire home/apt', 89, 1, 270, '2019-07-05', 4.64, 1, 194)\n",
            "(5022, 'Entire Apt: Spacious Studio/Loft by central park', 7192, 'Laura', 'Manhattan', 'East Harlem', 40.79851, -73.94399, 'Entire home/apt', 80, 10, 9, '2018-11-19', 0.1, 1, 0)\n",
            "(5099, 'Large Cozy 1 BR Apartment In Midtown East', 7322, 'Chris', 'Manhattan', 'Murray Hill', 40.74767, -73.975, 'Entire home/apt', 200, 3, 74, '2019-06-22', 0.59, 1, 129)\n",
            "(5121, 'BlissArtsSpace!', 7356, 'Garon', 'Brooklyn', 'Bedford-Stuyvesant', 40.68688, -73.95596, 'Private room', 60, 45, 49, '2017-10-05', 0.4, 1, 0)\n",
            "(5178, \"Large Furnished Room Near B'way \", 8967, 'Shunichi', 'Manhattan', \"Hell's Kitchen\", 40.76489, -73.98493, 'Private room', 79, 2, 430, '2019-06-24', 3.47, 1, 220)\n",
            "(5203, 'Cozy Clean Guest Room - Family Apt', 7490, 'MaryEllen', 'Manhattan', 'Upper West Side', 40.80178, -73.96723, 'Private room', 79, 2, 118, '2017-07-21', 0.99, 1, 0)\n",
            "(5238, 'Cute & Cozy Lower East Side 1 bdrm', 7549, 'Ben', 'Manhattan', 'Chinatown', 40.71344, -73.99037, 'Entire home/apt', 150, 1, 160, '2019-06-09', 1.33, 4, 188)\n"
          ]
        }
      ]
    },
    {
      "cell_type": "markdown",
      "source": [
        "### Task 3.2: Count Total Records\n",
        "- Write an SQL query to count the total number of records in the 'listings' table.\n",
        "- Execute the query and display the count.\n",
        "\n",
        "Hint: This query uses the COUNT(*) function to count the total number of records in the \"listings\" table."
      ],
      "metadata": {
        "id": "0O4Nfb9yC61D"
      }
    },
    {
      "cell_type": "code",
      "source": [
        "# TODO: Execute the SQL query to count the number of records (don't forget the trailing ';' to finish a query)\n",
        "cursor.execute(\"SELECT COUNT(*) FROM listings;\")\n",
        "\n",
        "# Completed\n",
        "count = cursor.fetchone()[0]\n",
        "# Print the count\n",
        "print(\"Total number of records in the 'listings' table:\", count)"
      ],
      "metadata": {
        "id": "4fJa4Bt6C7Nw",
        "colab": {
          "base_uri": "https://localhost:8080/"
        },
        "outputId": "9e031b6e-73e4-4794-af9b-3b059477a240"
      },
      "execution_count": 7,
      "outputs": [
        {
          "output_type": "stream",
          "name": "stdout",
          "text": [
            "Total number of records in the 'listings' table: 48895\n"
          ]
        }
      ]
    },
    {
      "cell_type": "markdown",
      "source": [
        "### Task 3.3: Top 10 Neighborhoods by Average Price\n",
        "- Write an SQL query to find the top 10 neighborhoods with the highest average listing price.\n",
        "- Execute the query and display the results.\n",
        "\n",
        "Hint: The result includes the neighborhood group, neighborhood name, and the average price. Make sure to use GROUP BY and ORDER BY, respectively.\n"
      ],
      "metadata": {
        "id": "uULLKoO0DEou"
      }
    },
    {
      "cell_type": "code",
      "source": [
        "# TODO: Execute the SQL query to find the top 10 neighborhoods with the highest average listing price (finish the two missing sql commands)\n",
        "cursor.execute(\"\"\"\n",
        "    SELECT neighbourhood_group, neighbourhood, AVG(price) AS avg_price\n",
        "    FROM listings\n",
        "    Group BY neighbourhood_group,neighbourhood\n",
        "    ORDER BY avg_price DESC\n",
        "    LIMIT 10;\n",
        "\"\"\")\n",
        "\n",
        "\n",
        "# Completed\n",
        "results = cursor.fetchall()"
      ],
      "metadata": {
        "id": "EDnyQuz1DDin"
      },
      "execution_count": 8,
      "outputs": []
    },
    {
      "cell_type": "code",
      "source": [
        "# Display the results\n",
        "for row in results:\n",
        "    print(row)"
      ],
      "metadata": {
        "id": "Ci48EiFwDJBB",
        "colab": {
          "base_uri": "https://localhost:8080/"
        },
        "outputId": "36c1c314-b2e2-4658-a020-cb8f28bd736e"
      },
      "execution_count": 9,
      "outputs": [
        {
          "output_type": "stream",
          "name": "stdout",
          "text": [
            "('Staten Island', 'Fort Wadsworth', 800.0)\n",
            "('Staten Island', 'Woodrow', 700.0)\n",
            "('Manhattan', 'Tribeca', 490.638418079096)\n",
            "('Brooklyn', 'Sea Gate', 487.85714285714283)\n",
            "('Bronx', 'Riverdale', 442.09090909090907)\n",
            "('Staten Island', \"Prince's Bay\", 409.5)\n",
            "('Manhattan', 'Battery Park City', 367.5571428571429)\n",
            "('Manhattan', 'Flatiron District', 341.925)\n",
            "('Staten Island', 'Randall Manor', 336.0)\n",
            "('Manhattan', 'NoHo', 295.71794871794873)\n"
          ]
        }
      ]
    },
    {
      "cell_type": "markdown",
      "source": [
        "### Task 3.4: Number of Listings by Room Type\n",
        "- Write an SQL query to determine the number of listings available for each room type.\n",
        "- Execute the query and display the results.\n",
        "\n",
        "Hint: The COUNT(*) function is used to count the number of records for each room type, and the result is grouped by the room type."
      ],
      "metadata": {
        "id": "yPvuIfq7DMhj"
      }
    },
    {
      "cell_type": "code",
      "source": [
        "# TODO: Execute the SQL query to determine the number of listings available for each room type (finish the one missing sql command)\n",
        "cursor.execute(\"\"\"\n",
        "    Select room_type,COUNT(*) AS num_listings\n",
        "    FROM listings\n",
        "    GROUP BY room_type;\n",
        "\"\"\")\n",
        "# Completed\n",
        "results = cursor.fetchall()"
      ],
      "metadata": {
        "id": "U1r32q1rDOil"
      },
      "execution_count": 10,
      "outputs": []
    },
    {
      "cell_type": "code",
      "source": [
        "# Display the results\n",
        "for row in results:\n",
        "    print(row)"
      ],
      "metadata": {
        "id": "s93h67wkDR6r",
        "colab": {
          "base_uri": "https://localhost:8080/"
        },
        "outputId": "64bb854f-e7da-44a6-8417-7e1d12962c1f"
      },
      "execution_count": 11,
      "outputs": [
        {
          "output_type": "stream",
          "name": "stdout",
          "text": [
            "('Entire home/apt', 25409)\n",
            "('Private room', 22326)\n",
            "('Shared room', 1160)\n"
          ]
        }
      ]
    },
    {
      "cell_type": "markdown",
      "source": [
        "### Task 3.5: Average Number of Reviews per Listing\n",
        "- Write an SQL query to calculate the average number of reviews per listing.\n",
        "- Execute the query and display the average.\n",
        "\n",
        "Hint: Use AVG() to find the average of a column and save it via an alias using AS. Make sure to specify the table using FROM."
      ],
      "metadata": {
        "id": "5zAOsyKXDV_j"
      }
    },
    {
      "cell_type": "code",
      "source": [
        "# TODO: Execute the SQL query to calculate the average number of reviews per listing (finish both the missing sql commands)\n",
        "cursor.execute(\"\"\"\n",
        "    SELECT AVG(number_of_reviews) AS avg_reviews_per_listing\n",
        "    FROM listings;\n",
        "\"\"\")\n",
        "\n",
        "# Completed\n",
        "result = cursor.fetchone()\n",
        "# Print the average number of reviews per listing\n",
        "print(\"Average number of reviews per listing:\", result[0])"
      ],
      "metadata": {
        "id": "lbOe62s4Dgt0",
        "colab": {
          "base_uri": "https://localhost:8080/"
        },
        "outputId": "9de21987-c393-48bd-d4d9-ed920252279e"
      },
      "execution_count": 12,
      "outputs": [
        {
          "output_type": "stream",
          "name": "stdout",
          "text": [
            "Average number of reviews per listing: 23.274465691788528\n"
          ]
        }
      ]
    },
    {
      "cell_type": "markdown",
      "source": [
        "### Task 3.6: Listings with Minimum Number of Reviews\n",
        "- Write an SQL query to find the listings with the minimum number of reviews.\n",
        "- Execute the query and display the results (limit to 15 rows).\n",
        "\n",
        "Hint: The subquery (SELECT MIN(number_of_reviews) FROM listings) retrieves the minimum number of reviews from the \"listings\" table, and the main query filters the rows where number_of_reviews matches the minimum value. Make sure to use WHERE clause."
      ],
      "metadata": {
        "id": "XEQ1ZI6YDj1e"
      }
    },
    {
      "cell_type": "code",
      "source": [
        "# TODO: Execute the SQL query to find the listings with the minimum number of reviews (finish the third missing sql command)\n",
        "cursor.execute(\"\"\"\n",
        "    SELECT id\n",
        "    FROM listings\n",
        "    WHERE number_of_reviews = (SELECT MIN(number_of_reviews) FROM listings)\n",
        "    LIMIT 15;\n",
        "\"\"\")\n",
        "# Completed\n",
        "results = cursor.fetchall()"
      ],
      "metadata": {
        "id": "z_Qq7kexDl38"
      },
      "execution_count": 13,
      "outputs": []
    },
    {
      "cell_type": "code",
      "source": [
        "# Display the results (limit to 15 rows)\n",
        "for row in results:\n",
        "    print(row)"
      ],
      "metadata": {
        "id": "0rlqZDJCDoWB",
        "colab": {
          "base_uri": "https://localhost:8080/"
        },
        "outputId": "493815fe-c33f-4805-9b3c-705852b27ce8"
      },
      "execution_count": 14,
      "outputs": [
        {
          "output_type": "stream",
          "name": "stdout",
          "text": [
            "(3647,)\n",
            "(7750,)\n",
            "(8700,)\n",
            "(11452,)\n",
            "(11943,)\n",
            "(51438,)\n",
            "(54466,)\n",
            "(63588,)\n",
            "(63913,)\n",
            "(64015,)\n",
            "(65556,)\n",
            "(89427,)\n",
            "(94209,)\n",
            "(118680,)\n",
            "(145188,)\n"
          ]
        }
      ]
    },
    {
      "cell_type": "markdown",
      "source": [
        "### Task 3.7: Filter Listings by Neighborhood and Maximum Price\n",
        "- Write an SQL query to filter the listings in the 'Chelsea' neighborhood with a maximum price of $200.\n",
        "- Execute the query and display the results.\n",
        "\n",
        "Hint: The WHERE clause is used to specify the filtering conditions."
      ],
      "metadata": {
        "id": "SXPgoKZcDp3h"
      }
    },
    {
      "cell_type": "code",
      "source": [
        "# TODO: Execute the SQL query to filter the listings\n",
        "cursor.execute(\"\"\"\n",
        "   SELECT id,\n",
        "   room_type,\n",
        "   price FROM listings\n",
        "   WHERE neighbourhood = 'Chelsea'\n",
        "   and price <=200;\n",
        "\"\"\")\n",
        "# Completed\n",
        "results = cursor.fetchall()"
      ],
      "metadata": {
        "id": "l9Ynu9zCDtSE"
      },
      "execution_count": 15,
      "outputs": []
    },
    {
      "cell_type": "code",
      "source": [
        "# Display the results\n",
        "for row in results:\n",
        "    print(row)"
      ],
      "metadata": {
        "id": "o6llsbDYDvOC",
        "colab": {
          "base_uri": "https://localhost:8080/"
        },
        "outputId": "bdef1221-4f6e-4f1e-d1a5-d89e575e7ceb"
      },
      "execution_count": 16,
      "outputs": [
        {
          "output_type": "stream",
          "name": "stdout",
          "text": [
            "(7322, 'Private room', 140)\n",
            "(18728, 'Private room', 150)\n",
            "(21794, 'Private room', 98)\n",
            "(47370, 'Entire home/apt', 125)\n",
            "(51572, 'Private room', 123)\n",
            "(98663, 'Entire home/apt', 130)\n",
            "(135706, 'Entire home/apt', 132)\n",
            "(145188, 'Entire home/apt', 200)\n",
            "(159913, 'Private room', 150)\n",
            "(193853, 'Entire home/apt', 149)\n",
            "(222304, 'Entire home/apt', 199)\n",
            "(258690, 'Entire home/apt', 195)\n",
            "(261674, 'Private room', 95)\n",
            "(442649, 'Entire home/apt', 125)\n",
            "(456110, 'Entire home/apt', 139)\n",
            "(502132, 'Shared room', 50)\n",
            "(515392, 'Entire home/apt', 200)\n",
            "(516461, 'Entire home/apt', 130)\n",
            "(522081, 'Private room', 170)\n",
            "(525120, 'Entire home/apt', 135)\n",
            "(564184, 'Private room', 125)\n",
            "(649561, 'Entire home/apt', 135)\n",
            "(667375, 'Entire home/apt', 200)\n",
            "(683084, 'Entire home/apt', 199)\n",
            "(698327, 'Private room', 72)\n",
            "(731316, 'Entire home/apt', 140)\n",
            "(747029, 'Private room', 155)\n",
            "(767967, 'Entire home/apt', 105)\n",
            "(812938, 'Entire home/apt', 99)\n",
            "(823520, 'Private room', 179)\n",
            "(826764, 'Private room', 65)\n",
            "(841292, 'Private room', 109)\n",
            "(858223, 'Entire home/apt', 200)\n",
            "(919830, 'Private room', 125)\n",
            "(925137, 'Entire home/apt', 124)\n",
            "(1043046, 'Entire home/apt', 160)\n",
            "(1072481, 'Private room', 70)\n",
            "(1089240, 'Private room', 176)\n",
            "(1105845, 'Entire home/apt', 160)\n",
            "(1133296, 'Entire home/apt', 175)\n",
            "(1139851, 'Entire home/apt', 90)\n",
            "(1182187, 'Private room', 125)\n",
            "(1292428, 'Private room', 119)\n",
            "(1336223, 'Entire home/apt', 93)\n",
            "(1336230, 'Entire home/apt', 93)\n",
            "(1336390, 'Entire home/apt', 199)\n",
            "(1377820, 'Entire home/apt', 180)\n",
            "(1408914, 'Entire home/apt', 200)\n",
            "(1421933, 'Private room', 90)\n",
            "(1478946, 'Entire home/apt', 98)\n",
            "(1479283, 'Entire home/apt', 96)\n",
            "(1524017, 'Entire home/apt', 140)\n",
            "(1701981, 'Entire home/apt', 200)\n",
            "(1704798, 'Private room', 76)\n",
            "(1752206, 'Entire home/apt', 200)\n",
            "(1759526, 'Private room', 90)\n",
            "(1811446, 'Private room', 90)\n",
            "(1820858, 'Entire home/apt', 161)\n",
            "(1835367, 'Entire home/apt', 92)\n",
            "(1866051, 'Entire home/apt', 200)\n",
            "(1871261, 'Private room', 90)\n",
            "(1891017, 'Entire home/apt', 200)\n",
            "(1892319, 'Private room', 84)\n",
            "(1903249, 'Private room', 75)\n",
            "(1947400, 'Entire home/apt', 200)\n",
            "(1975999, 'Entire home/apt', 189)\n",
            "(2071420, 'Entire home/apt', 199)\n",
            "(2093064, 'Entire home/apt', 139)\n",
            "(2134052, 'Entire home/apt', 90)\n",
            "(2185668, 'Private room', 80)\n",
            "(2186699, 'Entire home/apt', 160)\n",
            "(2310445, 'Entire home/apt', 150)\n",
            "(2422991, 'Entire home/apt', 159)\n",
            "(2493039, 'Private room', 119)\n",
            "(2723554, 'Entire home/apt', 110)\n",
            "(2756159, 'Shared room', 85)\n",
            "(2918732, 'Entire home/apt', 200)\n",
            "(3010430, 'Entire home/apt', 180)\n",
            "(3029690, 'Entire home/apt', 93)\n",
            "(3060297, 'Entire home/apt', 93)\n",
            "(3265409, 'Private room', 90)\n",
            "(3279671, 'Entire home/apt', 165)\n",
            "(3339205, 'Entire home/apt', 160)\n",
            "(3339273, 'Entire home/apt', 93)\n",
            "(3344509, 'Entire home/apt', 179)\n",
            "(3496384, 'Private room', 85)\n",
            "(3521162, 'Entire home/apt', 175)\n",
            "(3616946, 'Private room', 135)\n",
            "(3636601, 'Entire home/apt', 95)\n",
            "(3782283, 'Entire home/apt', 150)\n",
            "(3801701, 'Entire home/apt', 195)\n",
            "(3896579, 'Entire home/apt', 200)\n",
            "(3922417, 'Entire home/apt', 95)\n",
            "(3983422, 'Entire home/apt', 125)\n",
            "(4129195, 'Entire home/apt', 175)\n",
            "(4144849, 'Entire home/apt', 115)\n",
            "(4220151, 'Entire home/apt', 159)\n",
            "(4276618, 'Entire home/apt', 120)\n",
            "(4284031, 'Entire home/apt', 160)\n",
            "(4297952, 'Entire home/apt', 199)\n",
            "(4329728, 'Private room', 110)\n",
            "(4338177, 'Entire home/apt', 160)\n",
            "(4431247, 'Shared room', 70)\n",
            "(4509500, 'Entire home/apt', 150)\n",
            "(4841187, 'Entire home/apt', 200)\n",
            "(4842507, 'Private room', 150)\n",
            "(4920912, 'Entire home/apt', 175)\n",
            "(4930306, 'Entire home/apt', 175)\n",
            "(5160871, 'Entire home/apt', 135)\n",
            "(5298299, 'Private room', 109)\n",
            "(5334478, 'Entire home/apt', 199)\n",
            "(5401148, 'Entire home/apt', 195)\n",
            "(5661080, 'Entire home/apt', 165)\n",
            "(5872177, 'Entire home/apt', 163)\n",
            "(5958299, 'Private room', 105)\n",
            "(6128992, 'Entire home/apt', 150)\n",
            "(6262496, 'Private room', 150)\n",
            "(6402807, 'Entire home/apt', 100)\n",
            "(6478214, 'Entire home/apt', 199)\n",
            "(6479559, 'Entire home/apt', 150)\n",
            "(6543312, 'Entire home/apt', 175)\n",
            "(6590569, 'Private room', 110)\n",
            "(6645224, 'Private room', 100)\n",
            "(6674363, 'Private room', 130)\n",
            "(6692975, 'Private room', 100)\n",
            "(6730056, 'Entire home/apt', 200)\n",
            "(6737815, 'Entire home/apt', 200)\n",
            "(6748933, 'Entire home/apt', 145)\n",
            "(6831518, 'Private room', 99)\n",
            "(6853271, 'Entire home/apt', 150)\n",
            "(6908209, 'Entire home/apt', 155)\n",
            "(6949104, 'Private room', 135)\n",
            "(6965441, 'Entire home/apt', 150)\n",
            "(7275273, 'Entire home/apt', 200)\n",
            "(7292891, 'Entire home/apt', 170)\n",
            "(7364374, 'Private room', 150)\n",
            "(7483034, 'Private room', 195)\n",
            "(7563529, 'Entire home/apt', 170)\n",
            "(7603389, 'Private room', 118)\n",
            "(7758577, 'Entire home/apt', 175)\n",
            "(7760406, 'Entire home/apt', 200)\n",
            "(7859723, 'Entire home/apt', 120)\n",
            "(7881023, 'Entire home/apt', 175)\n",
            "(7969111, 'Private room', 135)\n",
            "(7981341, 'Shared room', 200)\n",
            "(8014087, 'Private room', 100)\n",
            "(8045421, 'Entire home/apt', 129)\n",
            "(8145339, 'Entire home/apt', 129)\n",
            "(8210423, 'Private room', 95)\n",
            "(8342053, 'Entire home/apt', 160)\n",
            "(8368794, 'Entire home/apt', 140)\n",
            "(8388776, 'Entire home/apt', 109)\n",
            "(8519400, 'Entire home/apt', 200)\n",
            "(8541831, 'Entire home/apt', 116)\n",
            "(8698671, 'Private room', 112)\n",
            "(8742567, 'Entire home/apt', 200)\n",
            "(8988997, 'Entire home/apt', 129)\n",
            "(8989430, 'Entire home/apt', 136)\n",
            "(9003691, 'Entire home/apt', 109)\n",
            "(9127011, 'Entire home/apt', 193)\n",
            "(9144999, 'Private room', 140)\n",
            "(9155475, 'Entire home/apt', 130)\n",
            "(9175459, 'Entire home/apt', 180)\n",
            "(9183131, 'Private room', 139)\n",
            "(9201479, 'Private room', 100)\n",
            "(9299515, 'Entire home/apt', 200)\n",
            "(9365502, 'Entire home/apt', 150)\n",
            "(9394266, 'Private room', 100)\n",
            "(9401453, 'Entire home/apt', 180)\n",
            "(9463039, 'Entire home/apt', 182)\n",
            "(9464543, 'Private room', 98)\n",
            "(9496094, 'Entire home/apt', 160)\n",
            "(9505268, 'Entire home/apt', 150)\n",
            "(9525241, 'Entire home/apt', 126)\n",
            "(9540974, 'Private room', 195)\n",
            "(9585339, 'Entire home/apt', 100)\n",
            "(9609825, 'Entire home/apt', 199)\n",
            "(9740386, 'Entire home/apt', 175)\n",
            "(9772152, 'Entire home/apt', 195)\n",
            "(9862831, 'Entire home/apt', 80)\n",
            "(9865374, 'Entire home/apt', 200)\n",
            "(9881516, 'Private room', 50)\n",
            "(9885815, 'Entire home/apt', 85)\n",
            "(9940966, 'Entire home/apt', 199)\n",
            "(10037605, 'Entire home/apt', 170)\n",
            "(10059699, 'Entire home/apt', 159)\n",
            "(10090735, 'Entire home/apt', 175)\n",
            "(10096773, 'Entire home/apt', 145)\n",
            "(10148581, 'Private room', 52)\n",
            "(10210556, 'Private room', 175)\n",
            "(10322621, 'Private room', 81)\n",
            "(10403231, 'Entire home/apt', 120)\n",
            "(10452737, 'Private room', 139)\n",
            "(10482237, 'Private room', 85)\n",
            "(10482409, 'Private room', 85)\n",
            "(10482554, 'Private room', 85)\n",
            "(10489896, 'Shared room', 46)\n",
            "(10564375, 'Entire home/apt', 180)\n",
            "(10692885, 'Entire home/apt', 120)\n",
            "(10766309, 'Private room', 130)\n",
            "(10903055, 'Private room', 119)\n",
            "(10904914, 'Private room', 70)\n",
            "(11006134, 'Entire home/apt', 125)\n",
            "(11296590, 'Entire home/apt', 165)\n",
            "(11389773, 'Private room', 65)\n",
            "(11419133, 'Private room', 80)\n",
            "(11453784, 'Entire home/apt', 200)\n",
            "(11503335, 'Private room', 84)\n",
            "(11531154, 'Private room', 70)\n",
            "(11563821, 'Private room', 110)\n",
            "(11863468, 'Entire home/apt', 142)\n",
            "(12000030, 'Entire home/apt', 199)\n",
            "(12050280, 'Private room', 150)\n",
            "(12067652, 'Entire home/apt', 175)\n",
            "(12089661, 'Private room', 175)\n",
            "(12167152, 'Private room', 179)\n",
            "(12171671, 'Private room', 85)\n",
            "(12322923, 'Entire home/apt', 165)\n",
            "(12355067, 'Private room', 200)\n",
            "(12560942, 'Entire home/apt', 185)\n",
            "(12658099, 'Private room', 100)\n",
            "(12681730, 'Private room', 125)\n",
            "(12772993, 'Private room', 55)\n",
            "(12786165, 'Private room', 75)\n",
            "(12825700, 'Entire home/apt', 195)\n",
            "(12854724, 'Entire home/apt', 75)\n",
            "(12854734, 'Entire home/apt', 100)\n",
            "(12869561, 'Entire home/apt', 191)\n",
            "(12884594, 'Entire home/apt', 150)\n",
            "(12891996, 'Entire home/apt', 200)\n",
            "(12989612, 'Private room', 100)\n",
            "(12989767, 'Entire home/apt', 175)\n",
            "(13044689, 'Entire home/apt', 170)\n",
            "(13078166, 'Entire home/apt', 179)\n",
            "(13115864, 'Entire home/apt', 105)\n",
            "(13162066, 'Entire home/apt', 130)\n",
            "(13169806, 'Entire home/apt', 154)\n",
            "(13186741, 'Private room', 85)\n",
            "(13252064, 'Shared room', 75)\n",
            "(13415535, 'Entire home/apt', 165)\n",
            "(13476685, 'Entire home/apt', 165)\n",
            "(13494898, 'Entire home/apt', 110)\n",
            "(13514387, 'Private room', 90)\n",
            "(13613052, 'Private room', 70)\n",
            "(13642631, 'Entire home/apt', 150)\n",
            "(13695031, 'Entire home/apt', 155)\n",
            "(13723345, 'Entire home/apt', 185)\n",
            "(13746962, 'Private room', 150)\n",
            "(13752222, 'Private room', 135)\n",
            "(13757845, 'Entire home/apt', 199)\n",
            "(13926604, 'Private room', 85)\n",
            "(13926664, 'Private room', 85)\n",
            "(13953224, 'Entire home/apt', 190)\n",
            "(14041141, 'Entire home/apt', 175)\n",
            "(14057678, 'Private room', 125)\n",
            "(14108509, 'Entire home/apt', 195)\n",
            "(14108671, 'Private room', 90)\n",
            "(14120431, 'Entire home/apt', 155)\n",
            "(14155064, 'Entire home/apt', 143)\n",
            "(14236416, 'Entire home/apt', 150)\n",
            "(14312186, 'Entire home/apt', 185)\n",
            "(14429513, 'Private room', 139)\n",
            "(14609804, 'Entire home/apt', 175)\n",
            "(14821494, 'Entire home/apt', 129)\n",
            "(14858544, 'Entire home/apt', 90)\n",
            "(14887025, 'Entire home/apt', 109)\n",
            "(15021783, 'Private room', 80)\n",
            "(15083267, 'Private room', 110)\n",
            "(15141938, 'Private room', 180)\n",
            "(15252848, 'Entire home/apt', 110)\n",
            "(15282411, 'Private room', 120)\n",
            "(15314886, 'Entire home/apt', 179)\n",
            "(15323284, 'Private room', 110)\n",
            "(15446631, 'Entire home/apt', 180)\n",
            "(15520060, 'Entire home/apt', 200)\n",
            "(15625556, 'Private room', 78)\n",
            "(15664673, 'Private room', 120)\n",
            "(15773659, 'Entire home/apt', 150)\n",
            "(15927071, 'Entire home/apt', 180)\n",
            "(15937164, 'Entire home/apt', 180)\n",
            "(16002841, 'Entire home/apt', 125)\n",
            "(16032177, 'Entire home/apt', 149)\n",
            "(16103920, 'Entire home/apt', 200)\n",
            "(16107664, 'Entire home/apt', 181)\n",
            "(16120794, 'Entire home/apt', 156)\n",
            "(16170544, 'Entire home/apt', 60)\n",
            "(16172895, 'Entire home/apt', 150)\n",
            "(16228505, 'Private room', 120)\n",
            "(16253465, 'Entire home/apt', 128)\n",
            "(16274292, 'Entire home/apt', 165)\n",
            "(16336497, 'Entire home/apt', 110)\n",
            "(16393191, 'Private room', 85)\n",
            "(16393395, 'Private room', 85)\n",
            "(16405036, 'Private room', 95)\n",
            "(16440192, 'Private room', 85)\n",
            "(16506579, 'Private room', 85)\n",
            "(16529755, 'Private room', 115)\n",
            "(16543032, 'Entire home/apt', 196)\n",
            "(16828843, 'Entire home/apt', 130)\n",
            "(16874685, 'Private room', 200)\n",
            "(16945093, 'Entire home/apt', 150)\n",
            "(16976215, 'Private room', 125)\n",
            "(17071462, 'Private room', 99)\n",
            "(17223109, 'Entire home/apt', 190)\n",
            "(17237486, 'Entire home/apt', 175)\n",
            "(17297014, 'Entire home/apt', 160)\n",
            "(17344027, 'Private room', 103)\n",
            "(17360353, 'Private room', 100)\n",
            "(17368006, 'Private room', 82)\n",
            "(17543905, 'Private room', 100)\n",
            "(17555918, 'Private room', 90)\n",
            "(17584136, 'Entire home/apt', 190)\n",
            "(17610059, 'Private room', 100)\n",
            "(17752493, 'Private room', 89)\n",
            "(17762525, 'Entire home/apt', 139)\n",
            "(17905479, 'Entire home/apt', 200)\n",
            "(17981447, 'Private room', 57)\n",
            "(18024772, 'Entire home/apt', 95)\n",
            "(18034890, 'Private room', 105)\n",
            "(18050153, 'Entire home/apt', 134)\n",
            "(18124043, 'Entire home/apt', 180)\n",
            "(18173989, 'Private room', 69)\n",
            "(18288371, 'Entire home/apt', 195)\n",
            "(18386307, 'Entire home/apt', 89)\n",
            "(18481196, 'Entire home/apt', 200)\n",
            "(18579416, 'Entire home/apt', 200)\n",
            "(18584180, 'Entire home/apt', 180)\n",
            "(18812670, 'Private room', 68)\n",
            "(18849349, 'Entire home/apt', 149)\n",
            "(18892465, 'Private room', 150)\n",
            "(18933994, 'Private room', 90)\n",
            "(19015029, 'Private room', 85)\n",
            "(19098733, 'Entire home/apt', 149)\n",
            "(19218475, 'Private room', 90)\n",
            "(19249099, 'Entire home/apt', 140)\n",
            "(19313064, 'Entire home/apt', 200)\n",
            "(19364229, 'Private room', 100)\n",
            "(19368455, 'Entire home/apt', 185)\n",
            "(19385683, 'Private room', 130)\n",
            "(19408844, 'Entire home/apt', 135)\n",
            "(19415979, 'Entire home/apt', 175)\n",
            "(19439790, 'Entire home/apt', 189)\n",
            "(19455149, 'Private room', 49)\n",
            "(19455656, 'Private room', 65)\n",
            "(19563669, 'Private room', 140)\n",
            "(19573919, 'Entire home/apt', 140)\n",
            "(19609919, 'Private room', 105)\n",
            "(19619159, 'Entire home/apt', 155)\n",
            "(19622470, 'Private room', 100)\n",
            "(19652739, 'Entire home/apt', 130)\n",
            "(19714903, 'Entire home/apt', 150)\n",
            "(19790344, 'Entire home/apt', 200)\n",
            "(19821160, 'Entire home/apt', 200)\n",
            "(19821206, 'Entire home/apt', 128)\n",
            "(19968961, 'Private room', 110)\n",
            "(20133862, 'Entire home/apt', 169)\n",
            "(20182193, 'Entire home/apt', 175)\n",
            "(20204055, 'Entire home/apt', 170)\n",
            "(20250864, 'Private room', 40)\n",
            "(20350538, 'Entire home/apt', 164)\n",
            "(20425394, 'Entire home/apt', 162)\n",
            "(20506481, 'Entire home/apt', 195)\n",
            "(20587567, 'Entire home/apt', 154)\n",
            "(20651136, 'Private room', 165)\n",
            "(20722247, 'Private room', 75)\n",
            "(20815900, 'Private room', 89)\n",
            "(20860184, 'Private room', 95)\n",
            "(20864878, 'Entire home/apt', 200)\n",
            "(20941420, 'Private room', 100)\n",
            "(21015751, 'Entire home/apt', 160)\n",
            "(21044271, 'Entire home/apt', 125)\n",
            "(21121441, 'Entire home/apt', 195)\n",
            "(21181643, 'Private room', 99)\n",
            "(21185183, 'Entire home/apt', 169)\n",
            "(21213047, 'Entire home/apt', 165)\n",
            "(21215073, 'Private room', 149)\n",
            "(21215200, 'Entire home/apt', 175)\n",
            "(21254023, 'Private room', 110)\n",
            "(21306332, 'Entire home/apt', 170)\n",
            "(21413839, 'Private room', 82)\n",
            "(21428231, 'Private room', 95)\n",
            "(21452348, 'Entire home/apt', 128)\n",
            "(21469886, 'Entire home/apt', 180)\n",
            "(21475999, 'Private room', 85)\n",
            "(21682816, 'Private room', 120)\n",
            "(21718049, 'Entire home/apt', 185)\n",
            "(21767672, 'Entire home/apt', 159)\n",
            "(21771502, 'Entire home/apt', 200)\n",
            "(21838658, 'Private room', 99)\n",
            "(21844377, 'Private room', 200)\n",
            "(21851700, 'Entire home/apt', 150)\n",
            "(21861551, 'Private room', 155)\n",
            "(21893604, 'Private room', 12)\n",
            "(21937451, 'Entire home/apt', 200)\n",
            "(21995883, 'Private room', 150)\n",
            "(22106002, 'Private room', 99)\n",
            "(22143436, 'Entire home/apt', 200)\n",
            "(22144662, 'Entire home/apt', 109)\n",
            "(22164078, 'Entire home/apt', 149)\n",
            "(22232463, 'Entire home/apt', 135)\n",
            "(22241573, 'Private room', 115)\n",
            "(22303856, 'Entire home/apt', 152)\n",
            "(22312190, 'Private room', 84)\n",
            "(22352793, 'Entire home/apt', 110)\n",
            "(22353899, 'Entire home/apt', 175)\n",
            "(22361598, 'Entire home/apt', 159)\n",
            "(22550483, 'Private room', 88)\n",
            "(22628471, 'Entire home/apt', 75)\n",
            "(22651509, 'Entire home/apt', 115)\n",
            "(22683927, 'Private room', 150)\n",
            "(22754110, 'Entire home/apt', 115)\n",
            "(22781825, 'Entire home/apt', 75)\n",
            "(22944203, 'Private room', 84)\n",
            "(23001249, 'Entire home/apt', 150)\n",
            "(23131463, 'Entire home/apt', 127)\n",
            "(23166556, 'Private room', 63)\n",
            "(23258639, 'Entire home/apt', 180)\n",
            "(23344243, 'Entire home/apt', 146)\n",
            "(23374229, 'Private room', 98)\n",
            "(23421363, 'Private room', 80)\n",
            "(23464702, 'Private room', 99)\n",
            "(23468785, 'Private room', 80)\n",
            "(23514583, 'Entire home/apt', 150)\n",
            "(23548260, 'Entire home/apt', 96)\n",
            "(23560164, 'Entire home/apt', 186)\n",
            "(23632578, 'Entire home/apt', 185)\n",
            "(23765706, 'Entire home/apt', 172)\n",
            "(23839939, 'Entire home/apt', 199)\n",
            "(23855466, 'Entire home/apt', 70)\n",
            "(24080143, 'Private room', 89)\n",
            "(24266025, 'Private room', 70)\n",
            "(24312275, 'Entire home/apt', 150)\n",
            "(24377683, 'Private room', 85)\n",
            "(24393653, 'Private room', 190)\n",
            "(24715838, 'Entire home/apt', 190)\n",
            "(24866257, 'Private room', 175)\n",
            "(24894724, 'Entire home/apt', 120)\n",
            "(24992418, 'Entire home/apt', 170)\n",
            "(25156498, 'Private room', 75)\n",
            "(25259845, 'Entire home/apt', 140)\n",
            "(25292558, 'Private room', 100)\n",
            "(25340844, 'Private room', 68)\n",
            "(25355845, 'Entire home/apt', 200)\n",
            "(25380189, 'Private room', 100)\n",
            "(25380654, 'Private room', 99)\n",
            "(25516958, 'Entire home/apt', 179)\n",
            "(25752683, 'Entire home/apt', 199)\n",
            "(26658854, 'Private room', 50)\n",
            "(26805133, 'Private room', 92)\n",
            "(26812606, 'Entire home/apt', 69)\n",
            "(26934498, 'Private room', 150)\n",
            "(27085372, 'Entire home/apt', 98)\n",
            "(27100997, 'Private room', 115)\n",
            "(27112835, 'Entire home/apt', 85)\n",
            "(27140232, 'Entire home/apt', 155)\n",
            "(27160493, 'Private room', 165)\n",
            "(27185508, 'Entire home/apt', 175)\n",
            "(27199508, 'Entire home/apt', 149)\n",
            "(27333579, 'Private room', 120)\n",
            "(27372891, 'Entire home/apt', 200)\n",
            "(27527118, 'Private room', 77)\n",
            "(27551268, 'Entire home/apt', 150)\n",
            "(27600437, 'Entire home/apt', 93)\n",
            "(27654829, 'Private room', 200)\n",
            "(27802387, 'Shared room', 85)\n",
            "(27853549, 'Entire home/apt', 180)\n",
            "(27903413, 'Entire home/apt', 180)\n",
            "(28104895, 'Entire home/apt', 167)\n",
            "(28133007, 'Entire home/apt', 200)\n",
            "(28335031, 'Entire home/apt', 154)\n",
            "(28359765, 'Entire home/apt', 175)\n",
            "(28372451, 'Entire home/apt', 110)\n",
            "(28440536, 'Entire home/apt', 200)\n",
            "(28715589, 'Entire home/apt', 150)\n",
            "(28752251, 'Private room', 91)\n",
            "(28754650, 'Entire home/apt', 140)\n",
            "(28832811, 'Private room', 90)\n",
            "(28881114, 'Private room', 175)\n",
            "(28919308, 'Entire home/apt', 195)\n",
            "(28964081, 'Entire home/apt', 137)\n",
            "(28964397, 'Private room', 65)\n",
            "(28981827, 'Entire home/apt', 200)\n",
            "(29063993, 'Entire home/apt', 69)\n",
            "(29381358, 'Private room', 165)\n",
            "(29384622, 'Entire home/apt', 200)\n",
            "(29393808, 'Entire home/apt', 175)\n",
            "(29440688, 'Private room', 100)\n",
            "(29630728, 'Entire home/apt', 189)\n",
            "(29701500, 'Entire home/apt', 200)\n",
            "(29780863, 'Private room', 180)\n",
            "(29904741, 'Private room', 85)\n",
            "(29906273, 'Entire home/apt', 175)\n",
            "(29945246, 'Entire home/apt', 125)\n",
            "(30062478, 'Entire home/apt', 170)\n",
            "(30108247, 'Private room', 114)\n",
            "(30133439, 'Private room', 66)\n",
            "(30137792, 'Private room', 85)\n",
            "(30182093, 'Entire home/apt', 200)\n",
            "(30199043, 'Private room', 150)\n",
            "(30227667, 'Entire home/apt', 175)\n",
            "(30272473, 'Entire home/apt', 139)\n",
            "(30445028, 'Private room', 110)\n",
            "(30563760, 'Private room', 138)\n",
            "(30708899, 'Private room', 133)\n",
            "(30709202, 'Private room', 130)\n",
            "(30769959, 'Private room', 138)\n",
            "(30788330, 'Entire home/apt', 160)\n",
            "(30824786, 'Private room', 75)\n",
            "(30885792, 'Private room', 80)\n",
            "(31054566, 'Private room', 68)\n",
            "(31122807, 'Private room', 200)\n",
            "(31122836, 'Private room', 200)\n",
            "(31151736, 'Entire home/apt', 190)\n",
            "(31297452, 'Entire home/apt', 190)\n",
            "(31382878, 'Entire home/apt', 180)\n",
            "(31390350, 'Private room', 100)\n",
            "(31489863, 'Private room', 92)\n",
            "(31543550, 'Private room', 86)\n",
            "(31622417, 'Entire home/apt', 200)\n",
            "(31654063, 'Private room', 99)\n",
            "(31748621, 'Entire home/apt', 100)\n",
            "(31883514, 'Private room', 99)\n",
            "(31883774, 'Private room', 99)\n",
            "(32113235, 'Entire home/apt', 180)\n",
            "(32163602, 'Entire home/apt', 180)\n",
            "(32164433, 'Entire home/apt', 175)\n",
            "(32172621, 'Private room', 99)\n",
            "(32189288, 'Entire home/apt', 100)\n",
            "(32449378, 'Shared room', 180)\n",
            "(32549565, 'Entire home/apt', 139)\n",
            "(32549617, 'Entire home/apt', 123)\n",
            "(32663202, 'Shared room', 65)\n",
            "(32668900, 'Entire home/apt', 200)\n",
            "(32675979, 'Private room', 100)\n",
            "(32676082, 'Private room', 100)\n",
            "(32676180, 'Private room', 100)\n",
            "(32676181, 'Private room', 100)\n",
            "(32676185, 'Private room', 100)\n",
            "(32676186, 'Private room', 100)\n",
            "(32676189, 'Private room', 100)\n",
            "(32676190, 'Private room', 100)\n",
            "(32678246, 'Private room', 100)\n",
            "(32691375, 'Entire home/apt', 149)\n",
            "(32748646, 'Private room', 80)\n",
            "(32763453, 'Private room', 150)\n",
            "(32764575, 'Private room', 140)\n",
            "(32773207, 'Entire home/apt', 149)\n",
            "(32805038, 'Entire home/apt', 139)\n",
            "(32885270, 'Entire home/apt', 180)\n",
            "(33069506, 'Private room', 83)\n",
            "(33113990, 'Entire home/apt', 175)\n",
            "(33142839, 'Entire home/apt', 199)\n",
            "(33189664, 'Entire home/apt', 140)\n",
            "(33226326, 'Entire home/apt', 140)\n",
            "(33270883, 'Private room', 100)\n",
            "(33294631, 'Private room', 75)\n",
            "(33295329, 'Entire home/apt', 120)\n",
            "(33365859, 'Entire home/apt', 185)\n",
            "(33571687, 'Entire home/apt', 170)\n",
            "(33595791, 'Private room', 115)\n",
            "(33608666, 'Private room', 110)\n",
            "(33708931, 'Private room', 150)\n",
            "(33712513, 'Entire home/apt', 154)\n",
            "(33719823, 'Entire home/apt', 200)\n",
            "(33745548, 'Private room', 99)\n",
            "(33745550, 'Private room', 199)\n",
            "(33850135, 'Entire home/apt', 162)\n",
            "(33866860, 'Entire home/apt', 99)\n",
            "(33874579, 'Entire home/apt', 150)\n",
            "(33935442, 'Private room', 130)\n",
            "(33981416, 'Private room', 110)\n",
            "(33998274, 'Entire home/apt', 100)\n",
            "(34019440, 'Entire home/apt', 180)\n",
            "(34042658, 'Entire home/apt', 195)\n",
            "(34196510, 'Private room', 199)\n",
            "(34198108, 'Private room', 129)\n",
            "(34206163, 'Private room', 199)\n",
            "(34206654, 'Private room', 199)\n",
            "(34206709, 'Private room', 199)\n",
            "(34206762, 'Private room', 199)\n",
            "(34206858, 'Private room', 199)\n",
            "(34206929, 'Private room', 199)\n",
            "(34207022, 'Private room', 129)\n",
            "(34207413, 'Private room', 149)\n",
            "(34207474, 'Private room', 149)\n",
            "(34207544, 'Private room', 149)\n",
            "(34207635, 'Private room', 149)\n",
            "(34207673, 'Private room', 159)\n",
            "(34207739, 'Private room', 159)\n",
            "(34207862, 'Private room', 159)\n",
            "(34255740, 'Entire home/apt', 134)\n",
            "(34284883, 'Entire home/apt', 129)\n",
            "(34338645, 'Private room', 85)\n",
            "(34341588, 'Entire home/apt', 159)\n",
            "(34343752, 'Entire home/apt', 195)\n",
            "(34383329, 'Private room', 85)\n",
            "(34446902, 'Private room', 140)\n",
            "(34470949, 'Private room', 109)\n",
            "(34470950, 'Private room', 199)\n",
            "(34470954, 'Private room', 159)\n",
            "(34675093, 'Entire home/apt', 100)\n",
            "(34866413, 'Entire home/apt', 93)\n",
            "(34929016, 'Private room', 89)\n",
            "(35114837, 'Entire home/apt', 154)\n",
            "(35166718, 'Private room', 120)\n",
            "(35228980, 'Entire home/apt', 199)\n",
            "(35236040, 'Private room', 150)\n",
            "(35315680, 'Entire home/apt', 195)\n",
            "(35342841, 'Entire home/apt', 180)\n",
            "(35384734, 'Entire home/apt', 198)\n",
            "(35497792, 'Private room', 105)\n",
            "(35646737, 'Private room', 85)\n",
            "(35707367, 'Entire home/apt', 175)\n",
            "(35754614, 'Entire home/apt', 200)\n",
            "(35790090, 'Entire home/apt', 89)\n",
            "(35971673, 'Private room', 105)\n",
            "(35971885, 'Private room', 105)\n",
            "(36060576, 'Entire home/apt', 125)\n",
            "(36112469, 'Entire home/apt', 185)\n",
            "(36223408, 'Private room', 150)\n",
            "(36227884, 'Shared room', 67)\n",
            "(36280357, 'Entire home/apt', 150)\n",
            "(36281050, 'Entire home/apt', 181)\n",
            "(36302523, 'Entire home/apt', 109)\n",
            "(36320933, 'Shared room', 75)\n",
            "(36409084, 'Shared room', 75)\n",
            "(36439761, 'Entire home/apt', 155)\n"
          ]
        }
      ]
    },
    {
      "cell_type": "markdown",
      "source": [
        "# Section 4: Closing the Database Connection <a name=\"closing-connection\"></a>"
      ],
      "metadata": {
        "id": "CyaxVtAuDyDd"
      }
    },
    {
      "cell_type": "markdown",
      "source": [
        "### Task 4.1: Close the Cursor and Database Connection\n",
        "- It's good practice to close the cursor and the database connection when you're done working with the database to free up system resources and maintain proper connection management.\n"
      ],
      "metadata": {
        "id": "nFKyd0DbD4Ns"
      }
    },
    {
      "cell_type": "code",
      "source": [
        "# Completed\n",
        "# Make sure to include these lines of code at the end of your script to properly close the cursor and database connection.\n",
        "cursor.close()\n",
        "conn.close()"
      ],
      "metadata": {
        "id": "_z_H6ZsmD2GX"
      },
      "execution_count": 17,
      "outputs": []
    },
    {
      "cell_type": "markdown",
      "source": [
        "# Section 5: Summary of Basic SQL Commands <a name=\"summary-commands\"></a>"
      ],
      "metadata": {
        "id": "P5b9IpSZVtlA"
      }
    },
    {
      "cell_type": "markdown",
      "source": [
        "In this project, you have practiced various SQL commands and tasks. Below is a summary of the basic SQL commands used:\n",
        "\n",
        "**Task 1.2: Connect to the Database**\n",
        "- Established a connection to the SQLite database.\n",
        "\n",
        "**Task 2.1: Load the Dataset**\n",
        "- Loaded the dataset into a DataFrame.\n",
        "- Imported the DataFrame into the database.\n",
        "\n",
        "**Task 3.1: Retrieve all Columns**\n",
        "- Executed a SELECT query to retrieve all columns.\n",
        "\n",
        "**Task 3.2: Count Total Records**\n",
        "- Executed a SELECT COUNT(*) query to count the total records.\n",
        "\n",
        "**Task 3.3: Top 10 Neighborhoods by Average Price**\n",
        "- Executed a SELECT query with GROUP BY, ORDER BY, and LIMIT clauses.\n",
        "\n",
        "**Task 3.4: Number of Listings by Room Type**\n",
        "- Executed a SELECT query with COUNT() and GROUP BY.\n",
        "\n",
        "**Task 3.5: Average Number of Reviews per Listing**\n",
        "- Executed a SELECT query with AVG().\n",
        "\n",
        "**Task 3.6: Listings with Minimum Number of Reviews**\n",
        "- Executed a SELECT query with WHERE and a subquery.\n",
        "\n",
        "**Task 3.7: Filter Listings by Neighborhood and Maximum Price**\n",
        "- Executed a SELECT query with WHERE conditions.\n",
        "\n",
        "**Task 4.1: Close the Cursor and Database Connection**\n",
        "- Closed the cursor and the database connection.\n",
        "\n",
        "This summary provides an overview of the basic SQL commands used in this project. You can use this as a reference for future SQL projects and data analysis tasks.\n"
      ],
      "metadata": {
        "id": "e_AmKIOvUHR_"
      }
    },
    {
      "cell_type": "markdown",
      "metadata": {
        "id": "UT8Rpdt4ZPeA"
      },
      "source": [
        "<h3 align = 'center' >\n",
        "Thank you for completing the project!\n",
        "</h3>\n",
        "\n",
        "Please do reach out to us if you have any questions or concerns. We are here to help you learn and grow.\n",
        "\n",
        "Please send your completed Google Colab Notebook to the NSDC HQ Team at nsdc@nebigdatahub.org in order to receive your virtual certificate of completion.\n"
      ]
    }
  ]
}